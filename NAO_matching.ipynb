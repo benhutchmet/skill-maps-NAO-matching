{
 "cells": [
  {
   "cell_type": "code",
   "execution_count": 1,
   "metadata": {},
   "outputs": [],
   "source": [
    "# Local imports\n",
    "import os\n",
    "import glob\n",
    "import re\n",
    "import sys\n",
    "import argparse\n",
    "\n",
    "# Third-party imports\n",
    "import numpy as np\n",
    "import pandas as pd\n",
    "import xarray as xr\n",
    "import matplotlib.pyplot as plt\n",
    "import matplotlib.cm as mpl_cm\n",
    "import matplotlib\n",
    "import cartopy.crs as ccrs\n",
    "import iris\n",
    "import iris.coord_categorisation as coord_cat\n",
    "import iris.plot as iplt\n",
    "import scipy\n",
    "import pdb\n",
    "import datetime\n",
    "import iris.quickplot as qplt\n",
    "\n",
    "# Import dictionaries and functions from my module\n",
    "import dictionaries as dic\n",
    "import functions as fnc"
   ]
  },
  {
   "cell_type": "code",
   "execution_count": null,
   "metadata": {},
   "outputs": [],
   "source": [
    "# Set up the variables\n",
    "model = \"HadGEM3-GC31-MM\"\n",
    "variable = \"psl\"\n",
    "region = \"global\"\n",
    "season = \"DJFM\"\n",
    "forecast_range = \"2-9\"\n",
    "start_year = \"1960\"\n",
    "end_year = \"2022\"\n",
    "obs_path = dic.obs_path\n",
    "models = dic.psl_full_models\n",
    "base_dir = dic.base_dir_skm_pro\n",
    "output_dir = dic.plots_dir_canari\n",
    "\n",
    "# Set up the matched variable\n",
    "tas_models = dic.tas_models\n",
    "match_var_tas = \"tas\""
   ]
  },
  {
   "cell_type": "code",
   "execution_count": null,
   "metadata": {},
   "outputs": [],
   "source": [
    "# Process the observations\n",
    "obs_anomaly = fnc.read_obs(variable, region, forecast_range,\n",
    "                            season, obs_path, start_year, end_year)"
   ]
  },
  {
   "cell_type": "code",
   "execution_count": null,
   "metadata": {},
   "outputs": [],
   "source": [
    "# Load and process the model data\n",
    "datasets = fnc.load_data(dic.base_dir_skm_pro, models, variable, region,\n",
    "                            forecast_range, season)\n",
    "\n",
    "# Process the model data\n",
    "model_anomaly, _ = fnc.process_data(datasets, variable)"
   ]
  },
  {
   "cell_type": "code",
   "execution_count": null,
   "metadata": {},
   "outputs": [],
   "source": [
    "# Make sure that the model and obs have the same time period\n",
    "model_anomaly = fnc.constrain_years(model_anomaly, models)\n",
    "\n",
    "# Remove years containing nans from the observations and align the time periods\n",
    "# for the observations and model\n",
    "obs_anomaly, model_anomaly = fnc.remove_years_with_nans(obs_anomaly, model_anomaly, models)"
   ]
  },
  {
   "cell_type": "code",
   "execution_count": null,
   "metadata": {},
   "outputs": [],
   "source": [
    "# Calculate the NAO index\n",
    "obs_nao, model_nao = fnc.calculate_nao_index_and_plot(obs_anomaly, model_anomaly, models, \n",
    "                                                        variable, season, forecast_range, \n",
    "                                                            output_dir, plot_graphics=False)"
   ]
  },
  {
   "cell_type": "code",
   "execution_count": 7,
   "metadata": {},
   "outputs": [
    {
     "name": "stdout",
     "output_type": "stream",
     "text": [
      "<xarray.DataArray 'filled-7c9d14396f574f261f7d21efde2390bd' (time: 53)>\n",
      "dask.array<sub, shape=(53,), dtype=float64, chunksize=(8,), chunktype=numpy.ndarray>\n",
      "Coordinates:\n",
      "  * time     (time) datetime64[ns] 1966-12-31 1967-12-31 ... 2018-12-31\n"
     ]
    }
   ],
   "source": [
    "# Test the NAO rescaling function\n",
    "rescaled_nao, ensemble_mean_nao, ensemble_members_nao = fnc.rescale_nao(obs_nao, model_nao, models, season,\n",
    "                                                                        forecast_range, output_dir, lagged=False)"
   ]
  },
  {
   "cell_type": "code",
   "execution_count": null,
   "metadata": {},
   "outputs": [],
   "source": [
    "# Perform the NAO matching for tas\n",
    "matched_tas_ensemble_mean = fnc.nao_matching_other_var(rescaled_nao, model_nao,\n",
    "                                                        models, match_var_tas, dic.base_dir_skm_pro, \n",
    "                                                            tas_models, obs_path, region,\n",
    "                                                                season, forecast_range, start_year, \n",
    "                                                                    end_year, output_dir, lagged=False,\n",
    "                                                                        no_subset_members=20)"
   ]
  },
  {
   "cell_type": "code",
   "execution_count": null,
   "metadata": {},
   "outputs": [],
   "source": [
    "# Now we want to calculate the spatial correlations between the matched variable and its observations\n",
    "# First we need to process the observations\n",
    "obs_tas = fnc.read_obs(match_var_tas, region, forecast_range,\n",
    "                        season, obs_path, start_year, end_year)"
   ]
  },
  {
   "cell_type": "code",
   "execution_count": null,
   "metadata": {},
   "outputs": [],
   "source": [
    "# Now we can calculate the spatial correlations\n",
    "rfield, pfield, \\\n",
    "obs_lons_converted, lons_converted = fnc.calculate_spatial_correlations(obs_tas,\n",
    "                                                                            matched_tas_ensemble_mean, \n",
    "                                                                                tas_models, \n",
    "                                                                                    match_var_tas)"
   ]
  }
 ],
 "metadata": {
  "kernelspec": {
   "display_name": "Python 3",
   "language": "python",
   "name": "python3"
  },
  "language_info": {
   "codemirror_mode": {
    "name": "ipython",
    "version": 3
   },
   "file_extension": ".py",
   "mimetype": "text/x-python",
   "name": "python",
   "nbconvert_exporter": "python",
   "pygments_lexer": "ipython3",
   "version": "3.10.5"
  }
 },
 "nbformat": 4,
 "nbformat_minor": 2
}
