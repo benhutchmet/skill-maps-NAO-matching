{
 "cells": [
  {
   "cell_type": "code",
   "execution_count": null,
   "metadata": {},
   "outputs": [],
   "source": [
    "# Local imports\n",
    "import os\n",
    "import glob\n",
    "import re\n",
    "import sys\n",
    "import argparse\n",
    "\n",
    "# Third-party imports\n",
    "import numpy as np\n",
    "import pandas as pd\n",
    "import xarray as xr\n",
    "import matplotlib.pyplot as plt\n",
    "import matplotlib.cm as mpl_cm\n",
    "import matplotlib\n",
    "import cartopy.crs as ccrs\n",
    "import iris\n",
    "import iris.coord_categorisation as coord_cat\n",
    "import iris.plot as iplt\n",
    "import scipy\n",
    "import pdb\n",
    "import datetime\n",
    "import iris.quickplot as qplt\n",
    "\n",
    "# Import dictionaries and functions from my module\n",
    "import dictionaries as dic\n",
    "import functions as fnc"
   ]
  },
  {
   "cell_type": "code",
   "execution_count": null,
   "metadata": {},
   "outputs": [],
   "source": [
    "# Set up the variables\n",
    "model = \"HadGEM3-GC31-MM\"\n",
    "variable = \"psl\"\n",
    "region = \"global\"\n",
    "season = \"DJFM\"\n",
    "forecast_range = \"2-9\"\n",
    "start_year = \"1960\"\n",
    "end_year = \"2014\"\n",
    "obs_path = dic.obs_path"
   ]
  },
  {
   "cell_type": "code",
   "execution_count": null,
   "metadata": {},
   "outputs": [],
   "source": [
    "# Process the observations\n",
    "obs_anomaly = fnc.read_obs(variable, region, forecast_range,\n",
    "                            season, obs_path, start_year, end_year)"
   ]
  },
  {
   "cell_type": "code",
   "execution_count": null,
   "metadata": {},
   "outputs": [],
   "source": [
    "# Load the model cube\n",
    "anom_mm = fnc.load_model_cube(variable, region, season, forecast_range)"
   ]
  }
 ],
 "metadata": {
  "language_info": {
   "name": "python"
  }
 },
 "nbformat": 4,
 "nbformat_minor": 2
}
